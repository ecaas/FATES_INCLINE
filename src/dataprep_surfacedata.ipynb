{
 "cells": [
  {
   "cell_type": "markdown",
   "metadata": {},
   "source": [
    "# FATES_INCLINE_dataprep_surfacedata\n",
    "\n",
    "By EL, \n",
    "heavily inspired from NorESM-LSP notebooks and https://github.com/huitang-earth/MossLichen_testbed/blob/main/scripts/SeedClim_surfacedata_modification.ipynb \n",
    "\n",
    "Data from the FunCaB project stored on OSF: \n",
    "Vandvik, V., Telford, R. J., Halbritter, A. H., Jaroszynska, F., Lynn, J. S., Geange, S. R., … Rüthers, J. (2022). FunCaB - The role of functional group interactions in mediating climate change impacts on the Carbon dynamics and biodiversity of alpine ecosystems. Retrieved from osf.io/4c5v2. DOI 10.17605/OSF.IO/4C5V2\n",
    "\n",
    "Prerequisites:\n",
    "1. get default input data from ...\n",
    "\n",
    "This notebook:\n",
    "- load libraries, define variables\n",
    "- load in observation data from FunCab for sites ALP1-4\n",
    "- load surface data for CLM-FATES\n",
    "- modify surface data\n",
    "- upload surface data to INCLINE branch of Eva LSP fork"
   ]
  },
  {
   "cell_type": "code",
   "execution_count": null,
   "metadata": {},
   "outputs": [],
   "source": [
    "# import libraries\n",
    "import xarray as xr  # NetCDF data handling\n",
    "import matplotlib.pyplot as plt  # Plotting\n",
    "import time  # Keeping track of runtime\n",
    "import json  # For reading data dictionaries stored in json format\n",
    "import pandas as pd  # Tabular data analysis\n",
    "import datetime as dt  # For workaround with long simulations (beyond year 2262)\n",
    "from pathlib import Path  # For easy path handling"
   ]
  },
  {
   "cell_type": "code",
   "execution_count": null,
   "metadata": {},
   "outputs": [],
   "source": [
    "site_codes = [\"ALP1\",\"ALP2\",\"ALP3\",\"ALP4\"]\n",
    "#will this work?\n",
    "\n",
    "# set path for where to store OSF data? \n",
    "\n",
    "# set path to default input data\n",
    "inputdata_path = Path(f\"../../data/{case_id}/\")\n",
    "\n",
    "# set path for where to store modified data\n"
   ]
  },
  {
   "cell_type": "markdown",
   "metadata": {},
   "source": [
    "## 1. Load and view data\n",
    "\n",
    "Refer to https://osf.io/4c5v2/ for data documentation. Download the data from OSF into a DataFrame."
   ]
  },
  {
   "cell_type": "code",
   "execution_count": null,
   "metadata": {},
   "outputs": [],
   "source": [
    "# Download data directly from OSF storage\n",
    "vcg_soil_temp_obs_df = pd.read_csv(\"https://osf.io/7tgxb/download\", low_memory=False)"
   ]
  },
  {
   "cell_type": "code",
   "execution_count": null,
   "metadata": {},
   "outputs": [],
   "source": [
    "# Print first rows\n",
    "vcg_soil_temp_obs_df.head()"
   ]
  },
  {
   "cell_type": "markdown",
   "metadata": {},
   "source": [
    "Link site names in data to site names in LSP (requires LSP file, look at Hui's notebook for manual alternative)"
   ]
  },
  {
   "cell_type": "code",
   "execution_count": null,
   "metadata": {},
   "outputs": [],
   "source": [
    "# Read dictionary for mapping the name of the NorESM platform site codes to the corresponding name in the VCG dataset\n",
    "with open(Path(\"./dicts/vestland_climate_grid.json\"), 'r', encoding='utf-8') as vcg_site_json:\n",
    "    vcg_site_dict = json.load(vcg_site_json).get(\"sites\")"
   ]
  },
  {
   "cell_type": "code",
   "execution_count": null,
   "metadata": {},
   "outputs": [],
   "source": [
    "# Subset soil temperatures for selected sites\n",
    "mysite_soil_temp_obs_df = vcg_soil_temp_obs_df[vcg_soil_temp_obs_df[\"siteID\"] == vcg_site_dict[site_codes]['osf_csv_name']]\n",
    "mysite_soil_temp_obs_df.head()"
   ]
  },
  {
   "cell_type": "code",
   "execution_count": null,
   "metadata": {},
   "outputs": [],
   "source": [
    "# Print period for available measurements\n",
    "print(f\"From: {min(mysite_soil_temp_obs_df['date_time'])}\")\n",
    "print(f\"To: {max(mysite_soil_temp_obs_df['date_time'])}\")"
   ]
  },
  {
   "cell_type": "code",
   "execution_count": null,
   "metadata": {},
   "outputs": [],
   "source": [
    "# Calculate monthly means\n",
    "monthly_mean_df = mysite_soil_temp_obs_df.groupby(\n",
    "    pd.PeriodIndex(mysite_soil_temp_obs_df['date_time'], freq='M')\n",
    ")['soiltemperature'].mean()\n",
    "\n",
    "# Convert to DataFrame\n",
    "monthly_mean_df = monthly_mean_df.to_frame()"
   ]
  },
  {
   "cell_type": "code",
   "execution_count": null,
   "metadata": {},
   "outputs": [],
   "source": [
    "monthly_mean_df"
   ]
  },
  {
   "cell_type": "code",
   "execution_count": null,
   "metadata": {},
   "outputs": [],
   "source": [
    "# Calculate yearly mean (to enable yearly comparison to model data)\n",
    "monthly_mean_df['date_dt'] = pd.to_datetime(monthly_mean_df.index.to_timestamp())\n",
    "monthly_mean_df.groupby(monthly_mean_df.date_dt.dt.year)['soiltemperature'].transform('mean')\n",
    "monthly_mean_df = monthly_mean_df.reset_index()\n",
    "# Add integer month column for easier data handling later on\n",
    "monthly_mean_df['month_int'] = [int(pd.to_datetime(x).strftime('%m')) for x in monthly_mean_df['date_dt'].values]\n",
    "monthly_mean_df"
   ]
  },
  {
   "cell_type": "code",
   "execution_count": null,
   "metadata": {},
   "outputs": [],
   "source": [
    "# Plot for quick visualization\n",
    "import matplotlib.dates as mdates\n",
    "\n",
    "fig, ax = plt.subplots(figsize=(6, 6))\n",
    "\n",
    "ax.plot(monthly_mean_df['date_dt'],\n",
    "        monthly_mean_df['soiltemperature']\n",
    "       )\n",
    "ax.set_title(f\"{site_code}: monthly mean soil temperatures\")\n",
    "ax.set_xlabel(\"Month\")\n",
    "ax.set_ylabel(\"Mean soil temperature [°C]\")\n",
    "ax.xaxis.set_major_formatter(mdates.DateFormatter('%b'))"
   ]
  },
  {
   "cell_type": "markdown",
   "metadata": {},
   "source": [
    "## Load default model surface data \n",
    "\n",
    "14.11.2022 code copied from Hui's script - need to change a lot of stuff!\n"
   ]
  },
  {
   "cell_type": "code",
   "execution_count": null,
   "metadata": {},
   "outputs": [],
   "source": [
    "# open surface data file to modify\n",
    "surface_nc_data = netCDF4.Dataset('/home/huitang/saga/work/inputdata/lnd/clm2/surfdata_map/'+sites[i]+'/surfdata_'+sites[i]+'_simyr2000.nc', 'r+')\n"
   ]
  },
  {
   "cell_type": "code",
   "execution_count": null,
   "metadata": {},
   "outputs": [],
   "source": []
  },
  {
   "cell_type": "code",
   "execution_count": null,
   "metadata": {},
   "outputs": [],
   "source": [
    "\n",
    "# modify land cover\n",
    "surface_nc_data['PCT_NAT_PFT'][0,:,:] = 100-plant_cover_obs # pay attention to the index, 0: barren ground\n",
    "surface_nc_data['PCT_NAT_PFT'][1:12,:,:] = 0          \n",
    "surface_nc_data['PCT_NAT_PFT'][12,:,:] = plant_cover_obs      # 12: grass\n",
    "surface_nc_data['PCT_NAT_PFT'][13:15,:,:] = 0\n",
    "surface_nc_data['PCT_NATVEG'][:,:] = 100\n",
    "surface_nc_data['PCT_CROP'][:,:] = 0\n",
    "surface_nc_data['PCT_CFT'][:,:,:] = 0\n",
    "surface_nc_data['PCT_WETLAND'][:,:] = 0\n",
    "surface_nc_data['PCT_LAKE'][:,:] = 0\n",
    "surface_nc_data['PCT_GLACIER'][:,:] = 0\n",
    "surface_nc_data['PCT_URBAN'][:,:,:] = 0\n",
    "# Modify soil properties\n",
    "surface_nc_data['ORGANIC'][0:3,:,:] = org_obs        # the layers of soil to modify depending on the availability of the data\n",
    "#surface_nc_data['PCT_SAND'][:,:,:] = 0\n",
    "#surface_nc_data['PCT_CLAY'][:,:,:] = 0\n",
    "surface_nc_data['zbedrock'][:,:] = sd_obs/100       # Modify soil depth\n",
    "surface_nc_data['SLOPE'][:,:] = 20.0\n",
    "\n",
    "# Modify satellite phenology (only if you use reduced complexity mode)\n",
    "#surface_nc_data['MONTHLY_LAI'][:,:,:,:] = 0\n",
    "#surface_nc_data['MONTHLY_SAI'][:,:,:,:] = 0\n",
    "surface_nc_data['MONTHLY_HEIGHT_TOP'][:,12,:,:] = plant_height_obs/1000\n",
    "surface_nc_data['MONTHLY_HEIGHT_BOT'][:,12,:,:] = 0.001/1000\n",
    "# Modify topography\n",
    "\n",
    "surface_nc_data.close()"
   ]
  },
  {
   "cell_type": "markdown",
   "metadata": {},
   "source": []
  },
  {
   "cell_type": "markdown",
   "metadata": {},
   "source": []
  }
 ],
 "metadata": {
  "kernelspec": {
   "display_name": "Python 3.9.7 ('base')",
   "language": "python",
   "name": "python3"
  },
  "language_info": {
   "codemirror_mode": {
    "name": "ipython",
    "version": 3
   },
   "file_extension": ".py",
   "mimetype": "text/x-python",
   "name": "python",
   "nbconvert_exporter": "python",
   "pygments_lexer": "ipython3",
   "version": "3.9.7"
  },
  "orig_nbformat": 4,
  "vscode": {
   "interpreter": {
    "hash": "8a510aeca75cd0fe7196d552a4ffd9b15fdb5e758bb89efa40015d0487c0487e"
   }
  }
 },
 "nbformat": 4,
 "nbformat_minor": 2
}
