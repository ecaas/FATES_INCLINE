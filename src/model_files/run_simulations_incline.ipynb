{
 "cells": [
  {
   "cell_type": "markdown",
   "id": "a1c2ee3f",
   "metadata": {},
   "source": [
    "# Run simulations - INCLINE\n",
    "\n",
    "This notebook goes through the steps of setting up cases and running simulations for the paper \"...\" \n",
    "Simulations were run using the [NorESM Landsites Platform](https://noresmhub.github.io/NorESM_LandSites_Platform)(NLP). See the [technical documentation](https://noresmhub.github.io/NorESM_LandSites_Platform) and [user guide](https://noresmhub.github.io/NorESM_LandSites_Platform/user_guide) for further details.\n",
    "\n",
    "Run on NREC or Docker container?\n",
    "\n",
    "- NorESM landsites platform version\n",
    "- NorESM landsites platform input data version\n",
    "- NorESM version\n",
    "- CLM version\n",
    "- FATES version\n",
    "\n",
    "### Workflow\n",
    "\n",
    "0. Set up modelling software, container etc., for simulations\n",
    "1. Prepare input data (separate notebook)\n",
    "2. Make parameter files (separate notebook)\n",
    "3. Run single-PFT simulations\n",
    "4. Run transplant experiment baseline\n",
    "5. Run transplant experiment with warming\n",
    "6. Analyse output (separate notebook)"
   ]
  },
  {
   "cell_type": "markdown",
   "id": "9a44c49e",
   "metadata": {},
   "source": [
    "## 0. Set up modelling software\n",
    "\n",
    "Use the NLP on NREC. \n",
    "Log in to NREC \n",
    "\n",
    "    ssh -i .ssh/evaskey centos@158.39.201.12\n",
    "\n"
   ]
  },
  {
   "cell_type": "markdown",
   "id": "2dccbdf6",
   "metadata": {},
   "source": [
    "## 1. [Prepare inputdata]() (separate notebook)\n",
    "\n",
    "## 2. [Make parameter files]() (separate notebook)\n"
   ]
  },
  {
   "cell_type": "markdown",
   "id": "204aba66",
   "metadata": {},
   "source": [
    "## 3. Set up and run single-PFT simulations\n",
    "\n",
    "To test whether our nine custom PFTs survive and grow at all, we first need to run single-PFT simulations for the four study sites = 36 simulations.\n",
    "\n",
    "Plant Functional Types:\n",
    "\n",
    "- sib_pro_s\n",
    "- sib_pro_m\n",
    "- sib_pro_l\n",
    "- suc_pra_s\n",
    "- suc_pra_m\n",
    "- suc_pra_l\n",
    "- ver_off_s\n",
    "- ver_off_m\n",
    "- ver_off_l\n",
    "\n",
    "Four sites: \n",
    "\n",
    "- ALP1, \n",
    "- ALP2, \n",
    "- ALP3, \n",
    "- ALP4.\n",
    "\n",
    "Parameter file ...\n",
    "Compset ...\n",
    "Settings file ...\n",
    "Model run type\n",
    "\n",
    "docker-compose up\n",
    "upload this notebook\n",
    "run this notebook"
   ]
  },
  {
   "cell_type": "markdown",
   "id": "a46d5b07",
   "metadata": {},
   "source": [
    "make a new settings file and modify it to include ALP1-4"
   ]
  },
  {
   "cell_type": "code",
   "execution_count": null,
   "id": "51275740",
   "metadata": {},
   "outputs": [],
   "source": [
    "%%bash\n",
    "cp ./landsites_tools/settings.txt ./landsites_tools/custom_settings/settings1.txt\n",
    "\n",
    "vi landsites_tools/custom_settings/settings1.txt\n",
    "# add sites ALP1-4; make changes using i and esc, :wq"
   ]
  },
  {
   "cell_type": "markdown",
   "id": "fcefe95f",
   "metadata": {},
   "source": [
    "make cases"
   ]
  },
  {
   "cell_type": "code",
   "execution_count": null,
   "id": "a13cfbf0",
   "metadata": {},
   "outputs": [],
   "source": [
    "%%bash\n",
    "# make cases - NB! Change this to make separate copies of the input data for each case too!\n",
    "./landsites_tools/simulation/make_cases.sh -sfxc _sib_s -f settings1.txt\n",
    "./landsites_tools/simulation/make_cases.sh -sfxc _sib_m -f settings1.txt\n",
    "./landsites_tools/simulation/make_cases.sh -sfxc _sib_l -f settings1.txt\n",
    "./landsites_tools/simulation/make_cases.sh -sfxc _suc_s -f settings1.txt\n",
    "./landsites_tools/simulation/make_cases.sh -sfxc _suc_m -f settings1.txt\n",
    "./landsites_tools/simulation/make_cases.sh -sfxc _suc_l -f settings1.txt\n",
    "./landsites_tools/simulation/make_cases.sh -sfxc _ver_s -f settings1.txt\n",
    "./landsites_tools/simulation/make_cases.sh -sfxc _ver_m -f settings1.txt\n",
    "./landsites_tools/simulation/make_cases.sh -sfxc _ver_l -f settings1.txt\n"
   ]
  },
  {
   "cell_type": "markdown",
   "id": "b3786182",
   "metadata": {},
   "source": [
    "The custom parameter files need to be specified in ...\n"
   ]
  },
  {
   "cell_type": "code",
   "execution_count": null,
   "id": "ef075f48",
   "metadata": {},
   "outputs": [],
   "source": [
    "%%bash\n",
    "# set path to parameter files\n",
    "fates_default_param_path=/home/centos/NorESM_LandSites_Platform/data/input/clm/ALP1_0.1.0_input/inputdata/lnd/clm2/paramdata/\n",
    "fates_default_param_fname=fates_params_api.14.0.0_12pft_c200921\n",
    "fates_path=/home/centos/NorESM_LandSites_Platform/noresm2/components/clm/src/fates/\n",
    "\n",
    "# make new single-PFT parameter files from the master\n",
    "ncdump ${fates_default_param_path}${fates_default_param_fname}.nc > ${fates_default_param_path}${fates_default_param_fname}.cdl\n",
    "python3 ${fates_path}tools/FatesPFTIndexSwapper.py --pft-indices 10 --fin ${fates_default_param_path}${fates_default_param_fname}.cdl --fout ${fates_path}parameter_files/fates_params_sib_m.cdl\n",
    "\n",
    "# problem! use winscp to replace parameterfile with a new one. "
   ]
  },
  {
   "cell_type": "markdown",
   "id": "5dee3647",
   "metadata": {},
   "source": [
    "Simulation period and other \"namelist options\" are set in the env_run.xml file in the data/cases/casename folder."
   ]
  },
  {
   "cell_type": "code",
   "execution_count": null,
   "id": "6b034724",
   "metadata": {},
   "outputs": [],
   "source": [
    "# change namelist options\n",
    "#case_names=(ALP1_0.1.0_sib_m ALP2_0.1.0_sib_m ALP3_0.1.0_sib_m ALP4_0.1.0_sib_m)\n",
    "\n",
    "#loop to apply changes in all the cases\n",
    "for case_name in ALP1_0.1.0_sib_m ALP2_0.1.0_sib_m ALP3_0.1.0_sib_m ALP4_0.1.0_sib_m\n",
    "do\n",
    " cd /home/centos/NorESM_LandSites_Platform/data/cases/${case_name}\n",
    "\n",
    "./xmlchange --file env_run.xml --id RUN_STARTDATE --val 2000-01-01                \n",
    "./xmlchange --file env_run.xml --id STOP_OPTION --val nyears               \n",
    "./xmlchange --file env_run.xml --id STOP_N --val 9                        \n",
    "./xmlchange --file env_run.xml --id DOUT_S --val TRUE \n",
    "#./xmlchange --file env_run.xml --id DIN_LOC_ROOT_CLMFORC --val *****${input_dir}/***\n",
    "./xmlchange --file env_run.xml --id DATM_CLMNCEP_YR_ALIGN --val 2000\n",
    "./xmlchange --file env_run.xml --id DATM_CLMNCEP_YR_START --val 2000\n",
    "./xmlchange --file env_run.xml --id DATM_CLMNCEP_YR_END --val 2009   \n",
    "# ./xmlchange --file env_run.xml --id LND_TUNING_MODE --val clm5_0_CRUv7   \n",
    "done\n",
    "\n",
    "#NB! When using the newer model version, remove the \"CLMNCEP_\" part of DATM_CLMNCEP_YR_ALIGN, DATM_CLMNCEP_YR_START, DATM_CLMNCEP_YR_END!"
   ]
  },
  {
   "cell_type": "code",
   "execution_count": null,
   "id": "01d9a2b7",
   "metadata": {},
   "outputs": [],
   "source": [
    "# define output vars to add in addition to default\n",
    "sitename=(ALP1 ALP2 ALP3 ALP4)\n",
    "version=\"0.1.0\"\n",
    "out_list=\"'GPP_SCPF', 'PFTcrownarea'\"\n",
    "fsurdat=\"/home/user/NorESM_LandSites_Platform/data/input/clm/${sitename[i]}_${version}_input/inputdata/lnd/clm2/surfdata_map/${sitename[i]}/surfdata_${sitename[i]}_simyr2000.nc\"\n",
    "fates_paramfile=\"/home/user/NorESM_LandSites_Platform/data/input/clm/${sitename[i]}_${version}_input/inputdata/lnd/clm2/paramdata/fates_params_api.14.0.0_12pft_c200921.nc\"\n",
    "\n",
    "\n",
    "# loop\n",
    "for case_name in ALP1_0.1.0_sib_m ALP2_0.1.0_sib_m ALP3_0.1.0_sib_m ALP4_0.1.0_sib_m\n",
    "do\n",
    " cd /home/centos/NorESM_LandSites_Platform/data/cases/${case_name}\n",
    " echo \"fsurdat='\\${fsurdat}\\'\" >> ./user_nl_clm\n",
    " echo \"fates_paramfile='\\${fates_paramfile}\\'\" >> ./user_nl_clm\n",
    " echo \"co2_ppmv=367.0\" >> ./user_nl_clm\n",
    " echo \"use_bedrock = .true.\" >> ./user_nl_clm\n",
    " echo \"hist_fincl2=${out_list}\" >> ./user_nl_clm\n",
    " echo \"hist_avgflag_pertape = 'A','A'\" >> ./user_nl_clm\n",
    " echo \"hist_dov2xy = .true.,.true.\" >> ./user_nl_clm\n",
    " echo \"hist_mfilt  = 1,1\" >> ./user_nl_clm\n",
    " echo \"hist_nhtfrq = 0,0\" >> ./user_nl_clm\n",
    "\n",
    "done"
   ]
  },
  {
   "cell_type": "markdown",
   "id": "826f12fd",
   "metadata": {},
   "source": [
    "If the input data uses a Gregorian calendar (with leap years), this must be specified in the env_build.xml file. "
   ]
  },
  {
   "cell_type": "code",
   "execution_count": null,
   "id": "f684876c",
   "metadata": {},
   "outputs": [],
   "source": [
    "# change calendar to Gregorian - cases must be re-built if this is changed!\n",
    "# for case_name in ALP1_0.1.0_sib_m ALP2_0.1.0_sib_m ALP3_0.1.0_sib_m ALP4_0.1.0_sib_m\n",
    "# do\n",
    "# cd /home/centos/NorESM_LandSites_Platform/data/cases/${case_name}\n",
    "# ./xmlchange --file env_build.xml --id CALENDAR --val GREGORIAN \n",
    "# done\n",
    "\n",
    "# re-build the cases\n",
    "# for case_name in ALP1_0.1.0_sib_m ALP2_0.1.0_sib_m ALP3_0.1.0_sib_m ALP4_0.1.0_sib_m\n",
    "# do\n",
    "# cd /home/centos/NorESM_LandSites_Platform/data/cases/${case_name}\n",
    "# ./case.build  \n",
    "# done"
   ]
  },
  {
   "cell_type": "markdown",
   "id": "28fbe37f",
   "metadata": {},
   "source": []
  },
  {
   "cell_type": "code",
   "execution_count": null,
   "id": "9d419120",
   "metadata": {},
   "outputs": [],
   "source": []
  },
  {
   "cell_type": "markdown",
   "id": "eeec8b4a",
   "metadata": {},
   "source": []
  },
  {
   "cell_type": "code",
   "execution_count": null,
   "id": "29a11800",
   "metadata": {},
   "outputs": [],
   "source": [
    "\n",
    "# run cases\n",
    "!./landsites_tools/simulation/make_cases.sh -f settings_.txt"
   ]
  },
  {
   "cell_type": "markdown",
   "id": "6b25831d",
   "metadata": {},
   "source": [
    "## 4. Run transplant experiment with current climate\n",
    "\n",
    "Changes to settings file:\n",
    "Sites ALP1, ALP2, ALP3, ALP4.\n",
    "Model run type: \n",
    "\n",
    "\n",
    "\n"
   ]
  },
  {
   "cell_type": "code",
   "execution_count": null,
   "id": "f99cb7da",
   "metadata": {},
   "outputs": [],
   "source": [
    "# make cases with custom settings file\n",
    "!python ../landsites_tools/simulation/make_cases.py -f settings_exp_c.txt"
   ]
  },
  {
   "cell_type": "code",
   "execution_count": null,
   "id": "ef0002e2",
   "metadata": {},
   "outputs": [],
   "source": [
    "# run cases\n",
    "!./landsites_tools/simulation/run_cases.sh -f settings_exp.txt -q"
   ]
  },
  {
   "cell_type": "markdown",
   "id": "df8696c0",
   "metadata": {},
   "source": [
    "After the run terminates, output is in `data/output`. Make sure the container is up until the simulation has finished. See separate notebook for output processing and plotting."
   ]
  },
  {
   "cell_type": "markdown",
   "id": "8d72e8c0",
   "metadata": {},
   "source": [
    "## 5. Run transplant experiment with OTC warming\n",
    "\n",
    "Use the same parameter files as before, but change temperature (how?) to 2 degrees C warmer ... "
   ]
  },
  {
   "cell_type": "code",
   "execution_count": null,
   "id": "a0019a9e",
   "metadata": {},
   "outputs": [],
   "source": []
  },
  {
   "cell_type": "markdown",
   "id": "7ddb7174",
   "metadata": {},
   "source": []
  },
  {
   "cell_type": "code",
   "execution_count": null,
   "id": "38a7aaf1",
   "metadata": {},
   "outputs": [],
   "source": [
    "!./landsites_tools/simulation/make_cases.sh -f settings_exp.txt"
   ]
  },
  {
   "cell_type": "code",
   "execution_count": null,
   "id": "a16c6155",
   "metadata": {},
   "outputs": [],
   "source": [
    "!./landsites_tools/simulation/run_cases.sh -f settings_exp.txt -q"
   ]
  }
 ],
 "metadata": {
  "kernelspec": {
   "display_name": "Python 3",
   "language": "python",
   "name": "python3"
  },
  "language_info": {
   "codemirror_mode": {
    "name": "ipython",
    "version": 3
   },
   "file_extension": ".py",
   "mimetype": "text/x-python",
   "name": "python",
   "nbconvert_exporter": "python",
   "pygments_lexer": "ipython3",
   "version": "3.9.11"
  }
 },
 "nbformat": 4,
 "nbformat_minor": 5
}
