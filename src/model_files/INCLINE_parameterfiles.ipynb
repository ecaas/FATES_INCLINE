{
 "cells": [
  {
   "cell_type": "markdown",
   "metadata": {},
   "source": [
    "# Parameter files for INCLINE\n",
    "\n",
    "Make the 'master' parameter file for FATES-INCLINE experiemnt. The master file will contain 9 PTS, all copies of the Arctic C3 grass default PFT, where some parameters are changed to make each PFT unique. The PFTs should represent, as well as possible, a small (s), medium/mean (m), and large (l) individual of the follwoing three species:\n",
    "\n",
    "1. Sibbaldia procumbens\n",
    "2. Succisa pratensis\n",
    "3. Veronica officinalis\n",
    "\n",
    "This will give the following PFTs:\n",
    "- sib_pro_s\n",
    "- sib_pro_m\n",
    "- sib_pro_l\n",
    "- suc_pra_s\n",
    "- suc_pra_m\n",
    "- suc_pra_l\n",
    "- ver_off_s\n",
    "- ver_off_m\n",
    "- ver_off_l\n",
    "\n",
    "The following parameters will be examined (* indicates multiple parameters):\n",
    "\n",
    "- fates_leaf_slamax\t \n",
    "- fates_leaf_slatop\t \n",
    "- fates_c2b\t \n",
    "- fates_fnrt_prof_*\t \n",
    "- fates_grperc\t \n",
    "- fates_leaf_jmax*\t \n",
    "- fates_leaf_long\t \n",
    "- fates_leaf_stor_priority\t \n",
    "- fates_leaf_slatop\t \n",
    "- fates_leaf_stomatal_*\t \n",
    "- fates_leaf_stor_priority\t \n",
    "- fates_leaf_vcmax25top\t \n",
    "- fates_leaf_xl\t \n",
    "- fates_maintresp_reduction_*\t \n",
    "- fates_maintresp_reduction_*\t \n",
    "- fates_mort_bmort\t \n",
    "- fates_mort_freezetol\t \n",
    "- fates_mort_hf_sm_threshold\t \n",
    "- fates_mort_scalar_*\t \n",
    "- fates_phen_evergreen\t \n",
    "- fates_phen_season_decid\t \n",
    "- fates_phen_stress_decid\t \n",
    "- fates_recruit_*\t \n",
    "- fates_root_long\t \n",
    "- fates_seed_*\t \n",
    "- fates_smp*\t \n",
    "- fates_wood\t \n",
    "- fates_hlm_pft_map\t \n",
    "- fates_photo_temp*\t \n",
    "\n",
    "check also if drought resistance, stomatal conductance might cover differences between PFTs instead of using fates-hydro\n",
    "\n",
    "Workflow:\n",
    "\n",
    "1. make copy of the default parameter file and use the FATESindexSwapper tool to make a new template with 9*ArcticC3grass PFTs.\n",
    "2. Make changes to the relevant parameters to turn the template into a 'master' parameter file for the FATES-INCLINE experiments."
   ]
  },
  {
   "cell_type": "markdown",
   "metadata": {},
   "source": [
    "# 1. make new parameter file using FatesPFTIndexSwapper.py tool\n",
    "\n",
    "First, get an updated version of the FATES parameter file (https://github.com/NGEET/fates/blob/master/parameter_files/fates_params_default.cdl). For now (06.04.2022), download manually since the NLP version is outdated.\n",
    "\n",
    "The FatesPFTIndexSwapper.py tool does not work on netCDF files (breaks the file by opening it and not closing it again!), so the file must be converted to .cdl before using the tool."
   ]
  },
  {
   "cell_type": "code",
   "execution_count": null,
   "metadata": {},
   "outputs": [],
   "source": [
    "%%bash\n",
    "# convert paramfile from .nc to .cdl (PFT copying tool needs .cdl)\n",
    "ncdump noresm2/components/clm/src/fates/parameter_files/fates_params_default.nc > noresm2/components/clm/src/fates/parameter_files/fates_params_default.cdl\n",
    "\n",
    "# make a new parameter file with 9 copies of the 10th PFT, Arctic C3 grass\n",
    "python3 noresm2/components/clm/src/fates/tools/FatesPFTIndexSwapper.py --pft-indices=10,10,10,10,10,10,10,10,10 --fin=noresm2/components/clm/src/fates/parameter_files/fates_params_default.cdl --fout=noresm2/components/clm/src/fates/parameter_files/fates_params_ac3_x9.cdl"
   ]
  },
  {
   "cell_type": "markdown",
   "metadata": {},
   "source": [
    "# 2. Change parameter values with modify_fates_paramfile.py\n",
    "\n",
    "parameters to look at:\n",
    "- fates_leaf_slamax\t \n",
    "- fates_leaf_slatop\t \n",
    "- fates_c2b\t \n",
    "- fates_fnrt_prof_*\t \n",
    "- fates_grperc\t \n",
    "- fates_leaf_jmax*\t \n",
    "- fates_leaf_long\t \n",
    "- fates_leaf_stor_priority\t \n",
    "- fates_leaf_slatop\t \n",
    "- fates_leaf_stomatal_*\t \n",
    "- fates_leaf_stor_priority\t \n",
    "- fates_leaf_vcmax25top\t \n",
    "- fates_leaf_xl\t \n",
    "- fates_maintresp_reduction_*\t \n",
    "- fates_maintresp_reduction_*\t \n",
    "- fates_mort_bmort\t \n",
    "- fates_mort_freezetol\t \n",
    "- fates_mort_hf_sm_threshold\t \n",
    "- fates_mort_scalar_*\t \n",
    "- fates_phen_evergreen\t \n",
    "- fates_phen_season_decid\t \n",
    "- fates_phen_stress_decid\t \n",
    "- fates_recruit_*\t \n",
    "- fates_root_long\t \n",
    "- fates_seed_*\t \n",
    "- fates_smp*\t \n",
    "- fates_wood\t \n",
    "- fates_hlm_pft_map\t \n",
    "- fates_photo_temp*\t"
   ]
  },
  {
   "cell_type": "code",
   "execution_count": null,
   "metadata": {},
   "outputs": [],
   "source": [
    "%%bash\n",
    "# to modify single values\n",
    "# --var or --variable: variable.\n",
    "# --pft or --PFT: PFT number. If this is missing, script will assume that its a global variable that is being modified.\n",
    "# --input or --fin: input filename.\n",
    "# --output or --fout: output filename.  If missing, will assume its directly modifying the input file, and will prompt unless -O is specified\n",
    "# --O or --overwrite: overwrite output file without asking.\n",
    "# --value or --val: value to put in variable\n",
    "# --s or --silent: don't write anything on successful execution.\n",
    "python3 modify_fates_paramfile.py --variable fates_leaf_slamax --value 0.03 --pft 1 --fin noresm2/components/clm/src/fates/parameter_files/fates_params_incline.cdl --O --s\n",
    "\n",
    "pft_name=(sib_pro_s sib_pro_m sib_pro_l suc_pra_s suc_pra_m suc_pra_l ver_off_s ver_off_m ver_off_l)\n",
    "variable_name=\"'fates_leaf_slamax','fates_leaf_slatop'\"\n"
   ]
  },
  {
   "cell_type": "markdown",
   "metadata": {},
   "source": [
    "\n",
    "| Parameter | PFT | default value | new value |\n",
    "|---|---|---|---|\n",
    "| fates_leaf_diameter (Characteristic leaf dimension)* | sib_pro_min | 0.04 m | 0.0001925 |\n",
    "| fates_leaf_diameter (Characteristic leaf dimension)* | sib_pro_mean | 0.04 m |0.003490213  |\n",
    "| fates_leaf_diameter (Characteristic leaf dimension)* | sib_pro_max | 0.04 m | 0.015785 |\n",
    "| fates_leaf_diameter (Characteristic leaf dimension)* | suc_pra_min | 0.04 m | 0.00462 |\n",
    "| fates_leaf_diameter (Characteristic leaf dimension)* | suc_pra_mean | 0.04 m |0.0209132  |\n",
    "| fates_leaf_diameter (Characteristic leaf dimension)* | suc_pra_max | 0.04 m | 0.0539 |\n",
    "| fates_leaf_diameter (Characteristic leaf dimension)* | ver_off_min | 0.04 m | 0.00231 |\n",
    "| fates_leaf_diameter (Characteristic leaf dimension)* | ver_off_mean | 0.04 m |0.006940405  |\n",
    "| fates_leaf_diameter (Characteristic leaf dimension)* | ver_off_max | 0.04 m | 0.0385 |\n",
    "| fates_leaf_slamax (Maximum Specific Leaf Area (SLA), even if under a dense canopy) | sib_pro_min | 0.03 m^2/gC |  |\n",
    "| fates_leaf_slamax (Maximum Specific Leaf Area (SLA), even if under a dense canopy) | sib_pro_mean | 0.03 m^2/gC |  |\n",
    "| fates_leaf_slamax (Maximum Specific Leaf Area (SLA), even if under a dense canopy) | sib_pro_max | 0.03 m^2/gC |  |\n",
    "| fates_leaf_slamax (Maximum Specific Leaf Area (SLA), even if under a dense canopy) | suc_pra_min | 0.03 m^2/gC |  |\n",
    "| fates_leaf_slamax (Maximum Specific Leaf Area (SLA), even if under a dense canopy) | suc_pra_mean | 0.03 m^2/gC |  |\n",
    "| fates_leaf_slamax (Maximum Specific Leaf Area (SLA), even if under a dense canopy) | suc_pra_max | 0.03 m^2/gC |  |\n",
    "| fates_leaf_slamax (Maximum Specific Leaf Area (SLA), even if under a dense canopy) | ver_off_min | 0.03 m^2/gC |  |\n",
    "| fates_leaf_slamax (Maximum Specific Leaf Area (SLA), even if under a dense canopy) | ver_off_mean | 0.03 m^2/gC |  |\n",
    "| fates_leaf_slamax (Maximum Specific Leaf Area (SLA), even if under a dense canopy) | ver_off_max | 0.03 m^2/gC |  |\n",
    "| fates_leaf_slatop (Maximum Specific Leaf Area (SLA) at top of canopy, projected area basis) | sib_pro_min | 0.03 m^2/gC |  |\n",
    "| fates_leaf_slatop (Maximum Specific Leaf Area (SLA) at top of canopy, projected area basis) | sib_pro_mean | 0.03 m^2/gC |  |\n",
    "| fates_leaf_slatop (Maximum Specific Leaf Area (SLA) at top of canopy, projected area basis) | sib_pro_max | 0.03 m^2/gC |  |\n",
    "| fates_leaf_slatop (Maximum Specific Leaf Area (SLA) at top of canopy, projected area basis) | suc_pra_min | 0.03 m^2/gC |  |\n",
    "| fates_leaf_slatop (Maximum Specific Leaf Area (SLA) at top of canopy, projected area basis) | suc_pra_mean | 0.03 m^2/gC |  |\n",
    "| fates_leaf_slatop (Maximum Specific Leaf Area (SLA) at top of canopy, projected area basis) | suc_pra_max | 0.03 m^2/gC |  |\n",
    "| fates_leaf_slatop (Maximum Specific Leaf Area (SLA) at top of canopy, projected area basis) | ver_off_min | 0.03 m^2/gC |  |\n",
    "| fates_leaf_slatop (Maximum Specific Leaf Area (SLA) at top of canopy, projected area basis) | ver_off_mean | 0.03 m^2/gC |  |\n",
    "| fates_leaf_slatop (Maximum Specific Leaf Area (SLA) at top of canopy, projected area basis) | ver_off_max | 0.03 m^2/gC |  |\n",
    "| fates_recruit_hgt_min (the minimum height (ie starting height) of a newly recruited plant) |\" sib_pro_min  \"| |\n",
    "| fates_recruit_hgt_min (the minimum height (ie starting height) of a newly recruited plant) |\" sib_pro_mean \"| |\n",
    "| fates_recruit_hgt_min (the minimum height (ie starting height) of a newly recruited plant) |\" sib_pro_max  \"| |\n",
    "| fates_recruit_hgt_min (the minimum height (ie starting height) of a newly recruited plant) |\" suc_pra_min  \"| |\n",
    "| fates_recruit_hgt_min (the minimum height (ie starting height) of a newly recruited plant) |\" suc_pra_mean \"| |\n",
    "| fates_recruit_hgt_min (the minimum height (ie starting height) of a newly recruited plant) |\" suc_pra_max  \"| |\n",
    "| fates_recruit_hgt_min (the minimum height (ie starting height) of a newly recruited plant) |\" ver_off_min  \"| |\n",
    "| fates_recruit_hgt_min (the minimum height (ie starting height) of a newly recruited plant) |\" ver_off_mean \"| |\n",
    "| fates_recruit_hgt_min (the minimum height (ie starting height) of a newly recruited plant) |\" ver_off_max  \"| |\n",
    "\n",
    "...\n",
    "\n",
    "\\* see https://github.com/NGEET/fates/issues/815, here use leaf width * 0.77 for a narrow but not too narrow leaf shape\n",
    "\n"
   ]
  },
  {
   "cell_type": "markdown",
   "metadata": {},
   "source": [
    "Then change it back to nedcdf format:"
   ]
  },
  {
   "cell_type": "code",
   "execution_count": null,
   "metadata": {},
   "outputs": [],
   "source": [
    "!ncgen noresm2/components/clm/src/fates/parameter_files/fates_params_incline.cdl"
   ]
  },
  {
   "cell_type": "markdown",
   "metadata": {},
   "source": [
    "and make sure it looks correct"
   ]
  },
  {
   "cell_type": "code",
   "execution_count": null,
   "metadata": {},
   "outputs": [],
   "source": [
    "%%bash\n",
    "vi noresm2/components/clm/src/fates/parameter_files/fates_params_incline.cdl\n",
    "# move around with arrow keys, exit by typing :q and hit enter"
   ]
  }
 ],
 "metadata": {
  "language_info": {
   "name": "python"
  },
  "orig_nbformat": 4
 },
 "nbformat": 4,
 "nbformat_minor": 2
}
