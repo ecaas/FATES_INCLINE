{
 "cells": [
  {
   "cell_type": "markdown",
   "id": "a1c2ee3f",
   "metadata": {},
   "source": [
    "# Run simulations\n",
    "\n",
    "This notebook goes through the steps of setting up cases and running simulations for the paper \"...\" \n",
    "Simulations were run using the [NorESM Landsites Platform](https://noresmhub.github.io/NorESM_LandSites_Platform). See the [technical documentation](https://noresmhub.github.io/NorESM_LandSites_Platform) and [user guide](https://noresmhub.github.io/NorESM_LandSites_Platform/user_guide) for further details and how to replicate the experiments in the paper.\n",
    "\n",
    "Versions:\n",
    "\n",
    "- NorESM landsites platform version\n",
    "- NorESM landsites platform input data version\n",
    "- NorESM version\n",
    "- CLM version\n",
    "- FATES version\n",
    "\n",
    "### Workflow\n",
    "\n",
    "1. Make parameter files\n",
    "2. Run spin-up simulations\n",
    "3. Run baseline transplant experiment\n",
    "4. Run warming transplant experiment\n",
    "5. Run transplant experiment with different seed rain parameters\n",
    "6. Run warming transplant experiment with different seed rain parameters\n",
    "\n",
    "Output visualization and analysis are done in a different notebook."
   ]
  },
  {
   "cell_type": "markdown",
   "id": "2d05b0b0",
   "metadata": {},
   "source": [
    "## 1. Make parameter files\n",
    "\n",
    "The default FATES parameter file must be copied and modified. Modifications were made manually after creating a copy with only three replicates of the Arctic C3 grass PFT (PFT index no. 10). The copied file was then downloaded, copied and modified manually, and then uploaded to the docker container again. "
   ]
  },
  {
   "cell_type": "code",
   "execution_count": null,
   "id": "d8572b7a",
   "metadata": {},
   "outputs": [],
   "source": [
    "# the PFT copying tool needs a .cdl version of the parameter file\n",
    "!ncdump noresm2/components/clm/src/fates/parameter_files/fates_params_default.nc > noresm2/components/clm/src/fates/parameter_files/fates_params_default.cdl\n",
    "# make a new parameter file with 9 copies of the 10th PFT, Arctic C3 grass\n",
    "!python noresm2/components/clm/src/fates/tools/FatesPFTIndexSwapper.py --pft-indices=10,10,10,10,10,10,10,10,10 --fin=noresm2/components/clm/src/fates/parameter_files/fates_params_default.cdl --fout=noresm2/components/clm/src/fates/parameter_files/fates_params_ac3_x9.cdl"
   ]
  },
  {
   "cell_type": "markdown",
   "id": "f32e9605",
   "metadata": {},
   "source": [
    "Download this file, make changes to parameters and upload the new file to the same folder. Change the following parameters: \n",
    "\n",
    "\n",
    "| Parameter | PFT | default value | new value |\n",
    "|---|---|---|---|\n",
    "| fates_leaf_diameter (Characteristic leaf dimension)* | sib_pro_min | 0.04 m | 0.0001925 |\n",
    "| fates_leaf_diameter (Characteristic leaf dimension)* | sib_pro_mean | 0.04 m |0.003490213  |\n",
    "| fates_leaf_diameter (Characteristic leaf dimension)* | sib_pro_max | 0.04 m | 0.015785 |\n",
    "| fates_leaf_diameter (Characteristic leaf dimension)* | suc_pra_min | 0.04 m | 0.00462 |\n",
    "| fates_leaf_diameter (Characteristic leaf dimension)* | suc_pra_mean | 0.04 m |0.0209132  |\n",
    "| fates_leaf_diameter (Characteristic leaf dimension)* | suc_pra_max | 0.04 m | 0.0539 |\n",
    "| fates_leaf_diameter (Characteristic leaf dimension)* | ver_off_min | 0.04 m | 0.00231 |\n",
    "| fates_leaf_diameter (Characteristic leaf dimension)* | ver_off_mean | 0.04 m |0.006940405  |\n",
    "| fates_leaf_diameter (Characteristic leaf dimension)* | ver_off_max | 0.04 m | 0.0385 |\n",
    "| fates_leaf_slamax (Maximum Specific Leaf Area (SLA), even if under a dense canopy) | sib_pro_min | 0.03 m^2/gC |  |\n",
    "| fates_leaf_slamax (Maximum Specific Leaf Area (SLA), even if under a dense canopy) | sib_pro_mean | 0.03 m^2/gC |  |\n",
    "| fates_leaf_slamax (Maximum Specific Leaf Area (SLA), even if under a dense canopy) | sib_pro_max | 0.03 m^2/gC |  |\n",
    "| fates_leaf_slamax (Maximum Specific Leaf Area (SLA), even if under a dense canopy) | suc_pra_min | 0.03 m^2/gC |  |\n",
    "| fates_leaf_slamax (Maximum Specific Leaf Area (SLA), even if under a dense canopy) | suc_pra_mean | 0.03 m^2/gC |  |\n",
    "| fates_leaf_slamax (Maximum Specific Leaf Area (SLA), even if under a dense canopy) | suc_pra_max | 0.03 m^2/gC |  |\n",
    "| fates_leaf_slamax (Maximum Specific Leaf Area (SLA), even if under a dense canopy) | ver_off_min | 0.03 m^2/gC |  |\n",
    "| fates_leaf_slamax (Maximum Specific Leaf Area (SLA), even if under a dense canopy) | ver_off_mean | 0.03 m^2/gC |  |\n",
    "| fates_leaf_slamax (Maximum Specific Leaf Area (SLA), even if under a dense canopy) | ver_off_max | 0.03 m^2/gC |  |\n",
    "| fates_leaf_slamax (Maximum Specific Leaf Area (SLA) at top of canopy, projected area basis) | sib_pro_min | 0.03 m^2/gC |  |\n",
    "| fates_leaf_slamax (Maximum Specific Leaf Area (SLA) at top of canopy, projected area basis) | sib_pro_mean | 0.03 m^2/gC |  |\n",
    "| fates_leaf_slamax (Maximum Specific Leaf Area (SLA) at top of canopy, projected area basis) | sib_pro_max | 0.03 m^2/gC |  |\n",
    "| fates_leaf_slamax (Maximum Specific Leaf Area (SLA) at top of canopy, projected area basis) | suc_pra_min | 0.03 m^2/gC |  |\n",
    "| fates_leaf_slamax (Maximum Specific Leaf Area (SLA) at top of canopy, projected area basis) | suc_pra_mean | 0.03 m^2/gC |  |\n",
    "| fates_leaf_slamax (Maximum Specific Leaf Area (SLA) at top of canopy, projected area basis) | suc_pra_max | 0.03 m^2/gC |  |\n",
    "| fates_leaf_slamax (Maximum Specific Leaf Area (SLA) at top of canopy, projected area basis) | ver_off_min | 0.03 m^2/gC |  |\n",
    "| fates_leaf_slamax (Maximum Specific Leaf Area (SLA) at top of canopy, projected area basis) | ver_off_mean | 0.03 m^2/gC |  |\n",
    "| fates_leaf_slamax (Maximum Specific Leaf Area (SLA) at top of canopy, projected area basis) | ver_off_max | 0.03 m^2/gC |  |\n",
    "| fates_recruit_hgt_min (the minimum height (ie starting height) of a newly recruited plant) |\" sib_pro_min  \"| |\n",
    "| fates_recruit_hgt_min (the minimum height (ie starting height) of a newly recruited plant) |\" sib_pro_mean \"| |\n",
    "| fates_recruit_hgt_min (the minimum height (ie starting height) of a newly recruited plant) |\" sib_pro_max  \"| |\n",
    "| fates_recruit_hgt_min (the minimum height (ie starting height) of a newly recruited plant) |\" suc_pra_min  \"| |\n",
    "| fates_recruit_hgt_min (the minimum height (ie starting height) of a newly recruited plant) |\" suc_pra_mean \"| |\n",
    "| fates_recruit_hgt_min (the minimum height (ie starting height) of a newly recruited plant) |\" suc_pra_max  \"| |\n",
    "| fates_recruit_hgt_min (the minimum height (ie starting height) of a newly recruited plant) |\" ver_off_min  \"| |\n",
    "| fates_recruit_hgt_min (the minimum height (ie starting height) of a newly recruited plant) |\" ver_off_mean \"| |\n",
    "| fates_recruit_hgt_min (the minimum height (ie starting height) of a newly recruited plant) |\" ver_off_max  \"| |\n",
    "\n",
    "...\n",
    "\n",
    "\\* see https://github.com/NGEET/fates/issues/815, here use leaf width * 0.77 for a narrow but not too narrow leaf shape\n",
    "\n",
    "\n",
    "\n",
    "\n",
    "     fates_pftname =\n",
    "        \" sib_pro_min  \",\n",
    "        \" sib_pro_mean \",\n",
    "        \" sib_pro_max  \",\n",
    "        \" suc_pra_min  \",\n",
    "        \" suc_pra_mean \",\n",
    "        \" suc_pra_max  \",\n",
    "        \" ver_off_min  \",\n",
    "        \" ver_off_mean \",\n",
    "        \" ver_off_max  \" ;\n",
    "    \n",
    "     fates_allom_dbh_maxheight = , , , , , , , ,  ;\n",
    "    \n",
    "     fates_leaf_diameter = 0.0001925, 0.003490213, 0.015785, 0.00462, 0.0209132, \n",
    "        0.0539, 0.00231, 0.006940405, 0.0385 ;\n",
    "    \n",
    "     fates_leaf_slamax = 0.03, 0.03, 0.03, 0.03, 0.03, 0.03, 0.03, 0.03, 0.03 ;\n",
    "    \n",
    "     fates_leaf_slatop = 0.03, 0.03, 0.03, 0.03, 0.03, 0.03, 0.03, \n",
    "        0.03, 0.03 ;\n",
    "\n",
    "     fates_recruit_hgt_min = 0.0027, 0.0038, 0.0048, 0.0044, 0.0049, 0.0054, 0.0025, 0.0039, 0.0049 ;\n",
    "\n",
    "\n",
    "Then change it back to nedcdf format:"
   ]
  },
  {
   "cell_type": "code",
   "execution_count": null,
   "id": "5f26debf",
   "metadata": {},
   "outputs": [],
   "source": [
    "!ncgen noresm2/components/clm/src/fates/parameter_files/fates_params_incline.cdl"
   ]
  },
  {
   "cell_type": "markdown",
   "id": "204aba66",
   "metadata": {},
   "source": [
    "## 2. Set up and run spin-up simulations\n",
    "\n",
    "Spin-up from a 'cold' model start is necessary to get more realistic simulations. From a cold (bare ground) start, the vegetation and soil conditions are not in equilibrium with the climate and needs many years of simulaiton to reach stable and realistic conditions. Spin-up files already exist for the study sites, but with other PFTs than we want. Therefore, we add an additional spin-up phase to get the desired PFT composition in equilibrium, using only the three Sibbaldia procumbens (sib_pro) PFTs. \n",
    "\n",
    "Parameter file ...\n",
    "Compset ...\n",
    "Settings file ...\n",
    "hybrid run\n"
   ]
  },
  {
   "cell_type": "code",
   "execution_count": null,
   "id": "d574fe2a",
   "metadata": {},
   "outputs": [],
   "source": [
    "# make a new parameter file with only the three variants of sib_pro\n",
    "!python noresm2/components/clm/src/fates/tools/FatesPFTIndexSwapper.py --pft-indices=10,10,10 --fin=noresm2/components/clm/src/fates/parameter_files/... --fout=noresm2/components/clm/src/fates/parameter_files/fates_params_default.cdl"
   ]
  },
  {
   "cell_type": "code",
   "execution_count": null,
   "id": "a13cfbf0",
   "metadata": {},
   "outputs": [],
   "source": [
    "# make cases\n",
    "!./landsites_tools/simulation/make_cases.sh -f settings_spinup.txt\n",
    "\n",
    "# run cases\n",
    "!./landsites_tools/simulation/make_cases.sh -f settings_spinup.txt"
   ]
  },
  {
   "cell_type": "markdown",
   "id": "6b25831d",
   "metadata": {},
   "source": [
    "## 3. Run baseline transplant experiment\n",
    "\n",
    "Settings have been changed to run ALP1, ALP2, ALP3, ALP4.\n",
    "Model run type: restart.\n",
    "Make cases and run the simulaitons.\n",
    "\n"
   ]
  },
  {
   "cell_type": "code",
   "execution_count": null,
   "id": "f99cb7da",
   "metadata": {},
   "outputs": [],
   "source": [
    "# make cases with baseline experiment settings file\n",
    "!python ../landsites_tools/simulation/make_cases.py -f settings_exp.txt"
   ]
  },
  {
   "cell_type": "markdown",
   "id": "391d1f18",
   "metadata": {},
   "source": [
    "\n",
    "The following steps will be executed with the make_cases.py script:\n",
    "\n",
    "1. Download/check the input data\n",
    "    - Input data for the available land sites will be automatically downloaded from `https://ns2806k.webs.sigma2.no/EMERALD/EMERALD_platform/inputdata_fates_platform/`\n",
    "    - You can specify the corresponding target root directory in the settings file\n",
    "    - You can provide a custom suffix (name ending that will be added to all input dirs) via the `-sfxi [_my_suffix]` flag, default is `_input`.\n",
    "2. Create case directories\n",
    "    - You can specify the corresponding root directory in the settings file\n",
    "    - You can provide a custom suffix (name ending that will be added to all case dirs) via the `-sfxc [_my_suffix]` flag, default is none.\n",
    "3. Change CLM and FATES parameters\n",
    "    - Changes all parameter values for CLM and FATES that are provided in the settings file\n",
    "4. Create custom output directories\n",
    "    - You can specify the corresponding root directory in the settings file\n",
    "    - You can provide a custom suffix (name ending that will be added to all output dirs) via the `-sfxo [_my_suffix]` flag, default is `_output`.\n",
    "5. \"Set up\" and \"build\" cases\n",
    "    - Executes `./case.setup` and `./case.build`\n",
    "6. Automatically add specified case, input, and output directories to the settings.txt file\n"
   ]
  },
  {
   "cell_type": "markdown",
   "id": "80029ae0",
   "metadata": {},
   "source": [
    "When cases have been set up and successfully built, run them using the run_cases.py script:"
   ]
  },
  {
   "cell_type": "code",
   "execution_count": null,
   "id": "ef0002e2",
   "metadata": {},
   "outputs": [],
   "source": [
    "!./landsites_tools/simulation/run_cases.sh -f settings_exp.txt -q"
   ]
  },
  {
   "cell_type": "markdown",
   "id": "df8696c0",
   "metadata": {},
   "source": [
    "After the run terminates, output is in `data/output`. Make sure you don't stop the container until the simulation has finished. See separate notebook for output processing and plotting."
   ]
  },
  {
   "cell_type": "markdown",
   "id": "8d72e8c0",
   "metadata": {},
   "source": [
    "## 4. Run warming transplant experiment\n",
    "\n",
    "Use the same parameter files as before, and the same restart files, but change temperature (how?) to 2 degrees C warmer ... "
   ]
  },
  {
   "cell_type": "code",
   "execution_count": null,
   "id": "a0019a9e",
   "metadata": {},
   "outputs": [],
   "source": []
  },
  {
   "cell_type": "markdown",
   "id": "fcdaf7ca",
   "metadata": {},
   "source": [
    "## 5. Run transplant experiment with different seed rain parameters\n",
    "\n",
    "Repeat experiment with these parameters changed: \n",
    "\n",
    "| Parameter | PFT | default value | new value |\n",
    "|---|---|---|---|\n",
    "| fates_seed_alloc_mature (fraction of available carbon balance allocated to seeds in mature plants) | sib_pro_min  |  |  |\n",
    "| fates_seed_alloc_mature (fraction of available carbon balance allocated to seeds in mature plants) | sib_pro_mean |  |  |\n",
    "| fates_seed_alloc_mature (fraction of available carbon balance allocated to seeds in mature plants) | sib_pro_max  |  |  |\n",
    "| fates_seed_alloc_mature (fraction of available carbon balance allocated to seeds in mature plants) | suc_pra_min  |  |  |\n",
    "| fates_seed_alloc_mature (fraction of available carbon balance allocated to seeds in mature plants) | suc_pra_mean |  |  |\n",
    "| fates_seed_alloc_mature (fraction of available carbon balance allocated to seeds in mature plants) | suc_pra_max  |  |  |\n",
    "| fates_seed_alloc_mature (fraction of available carbon balance allocated to seeds in mature plants) | ver_off_min  |  |  |\n",
    "| fates_seed_alloc_mature (fraction of available carbon balance allocated to seeds in mature plants) | ver_off_mean |  |  |\n",
    "| fates_seed_alloc_mature (fraction of available carbon balance allocated to seeds in mature plants) | ver_off_max  |  |  |\n",
    "|  | sib_pro_min  |  |  |\n",
    "|  | sib_pro_mean |  |  |\n",
    "|  | sib_pro_max  |  |  |\n",
    "|  | suc_pra_min  |  |  |\n",
    "|  | suc_pra_mean |  |  |\n",
    "|  | suc_pra_max  |  |  |\n",
    "|  | ver_off_min  |  |  |\n",
    "|  | ver_off_mean |  |  |\n",
    "|  | ver_off_max  |  |  |\n",
    "\n",
    "in the parameter file this will look like..."
   ]
  },
  {
   "cell_type": "markdown",
   "id": "f15c091c",
   "metadata": {},
   "source": [
    "#### Re-run the same cases but with different parameter files supplied\n",
    "\n",
    "The settings file is the same as in the baseline simulations, but the parameter files are different. Parameter files are uploaded in the same folder, noresm2/components/clm/src/fates/parameter_files, with the same names as before (overwriting) to avoid changing additional settings."
   ]
  },
  {
   "cell_type": "code",
   "execution_count": null,
   "id": "38a7aaf1",
   "metadata": {},
   "outputs": [],
   "source": [
    "!./landsites_tools/simulation/make_cases.sh -f settings_exp.txt"
   ]
  },
  {
   "cell_type": "code",
   "execution_count": null,
   "id": "a16c6155",
   "metadata": {},
   "outputs": [],
   "source": [
    "!./landsites_tools/simulation/run_cases.sh -f settings_exp.txt -q"
   ]
  }
 ],
 "metadata": {
  "kernelspec": {
   "display_name": "Python 3",
   "language": "python",
   "name": "python3"
  },
  "language_info": {
   "codemirror_mode": {
    "name": "ipython",
    "version": 3
   },
   "file_extension": ".py",
   "mimetype": "text/x-python",
   "name": "python",
   "nbconvert_exporter": "python",
   "pygments_lexer": "ipython3",
   "version": "3.6.8"
  }
 },
 "nbformat": 4,
 "nbformat_minor": 5
}
